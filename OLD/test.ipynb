{
 "cells": [
  {
   "cell_type": "code",
   "execution_count": 27,
   "metadata": {},
   "outputs": [
    {
     "name": "stdout",
     "output_type": "stream",
     "text": [
      "['zhang2024reproducible', 'lim2024unraveling', 'park2024hide', 'lee2024supporting', 'kim2016slideqa', 'lee2013analyzing', 'lee2013dungeons', 'lee2012understanding', 'lee2013mobile', 'kim2024navigating', 'lee2024sadl', 'lee2024priviaware', 'jung2024deepstress', 'kim2024interrupting', 'lim2024exploring', 'lee2024familyscope', 'jung2024tutorial', 'toshnazarov2024sosw', 'koh2023data', 'han2023watchppg', 'park2023measuring', 'ma2023investigating', 'orzikulova2023finerme', 'heo2023form', 'park2023understanding', 'kang2023kemophone', 'jung2023causal', 'lee2023datadriven', 'lee2023data', 'park2023charlie', 'park2023quickref', 'jung2023enjoy', 'han2022stressbal', 'choi2023lossframed', 'lee2023toward', 'zitouni2023lstmmodeling', 'lee2022trends', 'choi2022you', 'lee2022toward', 'lee2022lvlinker', 'choi2022facilitating', 'lee2022beyond', 'salman2022darcas', 'kim2022socialspiritual', 'lee2022systematic', 'lee2022understanding', 'salman2022csidespy', 'jung2022caremouse', 'kang2022understanding', 'choi2022its', 'zitouni2022privacy', 'alknawy2022successfully', 'kim2021poster', 'kang2021poster', 'nasrat2021emotion', 'zitouni2021arousalvalence', 'lee2021dynamic', 'kim2021utilitarian', 'lee2021benefits', 'jung2021good', 'lee2021sticky', 'park2021goldentime', 'kim2021beneficial', 'kim2021causal', 'samson2020asian', 'kim2020understanding', 'lee2021validation', 'alknawy2020riyadh', 'lee2021temporal', 'murray2020digital', 'park2020kemocon', 'cha2020hello', 'jung2020too', 'kim2020dashcam', 'balili2020termball', 'park2020cognitive', 'rhim2020tracking', 'lee2020privacy', 'sun2020beactive', 'oh2020scriptfree', 'kim2020interruptibility', 'lee2020objectivelymeasured', 'lee2019maximizing', 'kim2019predicting', 'lee2020pass', 'kim2019understanding', 'choi2019multistage', 'kim2019lockntype', 'lee2019commitment', 'shin2019slow', 'lee2019interaction', 'oh2019wakeup', 'kim2019goalkeeper', 'kang2019fire', 'kim2018interrupting', 'kang2018understanding', 'cha2018hellobot', 'kim2018exploring', 'park2018campuswatch', 'cha2018complex', 'park2018localness', 'lee2019intelligent', 'han2019opticalacoustic', 'park2018interaction', 'shin2018actuating', 'shin2018tnt', 'lee2018flowerpop', 'balili2017tracking', 'kim2017technology', 'kim2017lets', 'kim2017trailsense', 'jeong2017smartwatch', 'oh2017understanding', 'park2017virtual', 'chin2017watchout', 'kim2017sensors', 'kim2017its', 'park2017facilitating', 'kim2017letspic', 'noh2016clips', 'lee2016internet', 'chae2016cannibalism', 'choi2016exploring', 'choi2016designing', 'shin2016motionmix', 'choi2016lockdoll', 'kim2016ecomeal', 'jung2016social', 'oh2016how', 'choi2016swimtrain', 'park2016motives', 'ko2016lock', 'shin2016analysis', 'ko2016what', 'ko2016understanding', 'ko2015familync', 'choi2015designing', 'jeong2016ieng', 'kim2015crowdcolor', 'noh2016hydrocast', 'oh2015scanshot', 'ko2015lock', 'song2015every', 'lee2015socialkeyboard', 'ko2015nugu', 'oh2015exploring', 'lee2014secure', 'choi2014mobydick', 'park2014understanding', 'cho2015placewalker', 'park2014human', 'lee2014hooked', 'lee2014supporting', 'ko2014motives', 'gerla2014internet', 'noh2014dots', '오태화2014활동이론에', 'lee2013understanding', 'sung2013booming', 'lee2013sociophone', 'oh2013facilitating', 'bao2013dataspotting', 'han2013mfama', 'park2013exersync', 'park2012exerlink', 'noh2012vapr', 'bellavista2012wide', 'lee2012emerging', 'ahnn2011geoserv', 'lim2013sewersnort', 'lee2011toward', 'varvello2011design', 'noh2010dots', 'noh2010vapr', 'lee2010geo', 'lee2010tracebased', 'lee2010greening', 'cho2010autogait', 'park2010vehicular', 'lee2010pressure', 'lee2010survey', 'lee2006fleanet', 'lee2010p2p', 'lee2009scaling', 'lee2008relaycast', 'kim2009sewersnort', 'lee2009togo', 'lee2010survey', 'lee2009bioinspired', 'lee2009dissemination', 'lee2009emerging', 'mvieira2010pherotrail', 'lee2008content', 'lee2008efficient', 'park2008delay', 'lee2007enhanced', 'bellavista2007standard', 'magistretti2007mobile', 'jung2007bluetorrent', 'lee2006timecritical', 'lee2006mobeyes', 'lee2006codetorrent', 'gerla2006vehicular', 'lee2006efficient', 'lee2006understanding', 'lee2005flow', 'lee2005automatic', 'chen2009codecast', 'zhen2008proofofrelevance', 'lee2008understanding', 'lee2007first', 'vieira2006analysis', 'park2006emergency', 'bao2014methods', '강성준2014다중', '고민삼2014스마트폰', '최우혁2014수영', '양수빈2014청소년', '이의진2015iot', '이의진2019긍정', '김채원2021cheersbot', 'lee2022method', 'lee2022method', '신유원2022스마트홈', 'lee2023analysis']\n",
      "['zitouni2023lstmmodeling', 'park2020kemocon', 'kim2019predicting', 'kim2017letspic', 'kim2021utilitarian', 'cho2015placewalker', 'choi2016exploring', 'jung2016social', 'park2012exerlink', 'lee2019maximizing', 'park2020cognitive', 'cha2020hello', 'kang2022understanding', 'lee2014secure', 'lee2008efficient', 'kim2018interrupting', 'cha2018hellobot', 'han2019opticalacoustic', 'kim2024interrupting', 'zitouni2022privacy', 'oh2015scanshot', 'lee2010geo', 'kim2016ecomeal', 'kim2017trailsense', 'lim2024unraveling', 'lee2022trends', 'park2013exersync', 'varvello2011design', 'lee2012emerging', 'lee2008content', 'choi2019multistage', 'jung2024tutorial', 'lee2019intelligent', 'lee2008relaycast', 'lee2010greening', 'ko2014motives', 'lee2013analyzing', 'lee2021sticky', 'park2023measuring', 'park2010vehicular', 'cho2010autogait', 'ahnn2011geoserv', 'chin2017watchout', 'lee2006understanding', 'lee2020privacy', 'lee2010tracebased', 'han2023watchppg', 'noh2014dots', 'lee2022method', 'choi2015designing', 'ko2016understanding', 'lee2020objectivelymeasured', 'park2016motives', 'lee2009scaling', 'zitouni2021arousalvalence', 'lee2010p2p', 'kang2023kemophone', 'ma2023investigating', 'park2024hide', 'park2018interaction', 'lee2024supporting', 'sung2013booming', 'jung2022caremouse', 'lee2009togo', 'bao2013dataspotting', 'alknawy2022successfully', 'noh2016hydrocast', 'lee2007first', 'lee2024familyscope', 'park2021goldentime', 'lee2022beyond', 'lee2006efficient', 'noh2016clips', 'koh2023data', 'lee2020pass', 'jung2020too', 'lee2007enhanced', 'gerla2014internet', '이의진2019긍정', 'han2013mfama', 'lee2021temporal', 'park2017virtual', 'mvieira2010pherotrail', 'lee2006fleanet', 'kim2017its', 'toshnazarov2024sosw', 'lee2008understanding', 'kim2022socialspiritual', 'choi2022facilitating', 'lee2022understanding', 'kim2024navigating', 'oh2019wakeup', 'bao2014methods', 'salman2022csidespy', 'bellavista2007standard', 'ko2016lock', '오태화2014활동이론에', 'choi2016lockdoll', 'kim2019lockntype', 'balili2017tracking', 'lee2009emerging', 'choi2016designing', 'alknawy2020riyadh', 'lee2006timecritical', 'lee2016internet', 'park2014human', 'chae2016cannibalism', 'ko2015lock', 'lee2023toward', 'kim2015crowdcolor', 'lee2022systematic', 'song2015every', 'oh2020scriptfree', 'choi2022you', 'lee2012understanding', 'park2023charlie', 'nasrat2021emotion', 'lee2005automatic', 'park2023understanding', 'oh2016how', 'kim2018exploring', 'kim2017lets', 'jung2021good', 'zhen2008proofofrelevance', 'lee2024sadl', '양수빈2014청소년', 'lee2013understanding', 'lee2010survey', 'kim2021beneficial', 'kim2017sensors', 'jung2007bluetorrent', 'kim2019understanding', 'lee2006codetorrent', 'shin2018actuating', 'jung2023enjoy', 'kang2019fire', 'park2018campuswatch', 'oh2013facilitating', '신유원2022스마트홈', 'lee2009dissemination', 'balili2020termball', 'heo2023form', 'choi2022its', 'lee2013dungeons', 'noh2012vapr', 'magistretti2007mobile', 'lee2021validation', '강성준2014다중', 'park2023quickref', 'sun2020beactive', 'lee2021dynamic', 'kang2021poster', 'jeong2016ieng', 'park2006emergency', 'oh2017understanding', 'kim2021poster', '최우혁2014수영', 'orzikulova2023finerme', 'shin2016analysis', 'lee2005flow', 'salman2022darcas', 'lee2013sociophone', 'lee2019interaction', 'lee2015socialkeyboard', 'murray2020digital', 'gerla2006vehicular', 'kim2021causal', 'vieira2006analysis', 'kim2009sewersnort', 'lee2006mobeyes', 'lim2024exploring', 'kim2016slideqa', 'bellavista2012wide', '김채원2021cheersbot', 'shin2016motionmix', 'lee2023data', 'shin2018tnt', 'chen2009codecast', 'lee2024priviaware', 'lee2021benefits', 'kim2020understanding', 'lee2023datadriven', 'jung2024deepstress', 'ko2015nugu', 'lee2010pressure', 'lee2023analysis', 'lee2022lvlinker', 'cha2018complex', 'park2008delay', 'noh2010dots', 'lee2018flowerpop', 'lee2011toward', 'lee2014supporting', 'rhim2020tracking', 'kim2019goalkeeper', 'ko2016what', 'zhang2024reproducible', 'lee2022toward', 'shin2019slow', 'jung2023causal', '고민삼2014스마트폰', 'park2017facilitating', 'choi2023lossframed', 'kim2020interruptibility', 'ko2015familync', 'kang2018understanding', 'choi2014mobydick', 'park2018localness', 'kim2017technology', 'jeong2017smartwatch', 'kim2020dashcam', 'choi2016swimtrain', 'oh2015exploring', 'lee2019commitment', 'samson2020asian', 'lee2014hooked', 'park2014understanding', 'han2022stressbal', 'lim2013sewersnort', 'lee2009bioinspired']\n"
     ]
    }
   ],
   "source": [
    "import bibtexparser\n",
    "import os\n",
    "\n",
    "pdfs = os.listdir(\"/home/iclab/kaist-iclab.github.io/public/publications/papers/\")\n",
    "pdfs = [pdf[:-4] for pdf in pdfs]\n",
    "\n",
    "# .bib 파일 읽기\n",
    "with open('data/publication.bib', 'r', encoding='utf-8') as bibfile:\n",
    "    bib_database = bibtexparser.load(bibfile)\n",
    "# Key(ID)만 추출\n",
    "keys = [entry['ID'] for entry in bib_database.entries]\n",
    "# 출력\n",
    "print(keys)\n",
    "print(pdfs)\n"
   ]
  },
  {
   "cell_type": "code",
   "execution_count": 29,
   "metadata": {},
   "outputs": [
    {
     "name": "stdout",
     "output_type": "stream",
     "text": [
      "{'noh2010vapr', 'lee2013mobile', '이의진2015iot'} set()\n"
     ]
    }
   ],
   "source": [
    "print(set(keys).difference(pdfs), set(pdfs).difference(keys))"
   ]
  }
 ],
 "metadata": {
  "kernelspec": {
   "display_name": "Python 3 (ipykernel)",
   "language": "python",
   "name": "python3"
  },
  "language_info": {
   "codemirror_mode": {
    "name": "ipython",
    "version": 3
   },
   "file_extension": ".py",
   "mimetype": "text/x-python",
   "name": "python",
   "nbconvert_exporter": "python",
   "pygments_lexer": "ipython3",
   "version": "3.12.3"
  }
 },
 "nbformat": 4,
 "nbformat_minor": 2
}
